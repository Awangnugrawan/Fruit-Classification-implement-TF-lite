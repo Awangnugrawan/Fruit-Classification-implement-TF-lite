{
  "nbformat": 4,
  "nbformat_minor": 0,
  "metadata": {
    "colab": {
      "provenance": [],
      "authorship_tag": "ABX9TyN31fsioiWCeFCVq5kSqH28",
      "include_colab_link": true
    },
    "kernelspec": {
      "name": "python3",
      "display_name": "Python 3"
    },
    "language_info": {
      "name": "python"
    }
  },
  "cells": [
    {
      "cell_type": "markdown",
      "metadata": {
        "id": "view-in-github",
        "colab_type": "text"
      },
      "source": [
        "<a href=\"https://colab.research.google.com/github/Awangnugrawan/Fruit-Classification-implement-TF-lite/blob/main/Fruit_Classification_implement_TF_lite.ipynb\" target=\"_parent\"><img src=\"https://colab.research.google.com/assets/colab-badge.svg\" alt=\"Open In Colab\"/></a>"
      ]
    },
    {
      "cell_type": "markdown",
      "source": [
        "# SUBMISSION PROJECT DICODING \"Belajar Pengemabangan Machine Learning\"\n",
        "## DATA DIRI\n",
        "\n",
        "*  Nama= Awang Mulya Nugrawan\n",
        "*  username DICODING= awang_nugrawan\n",
        "*  email = awangmulyanugrawan@gmail.com\n",
        "*  No.hp = 082191862002\n",
        "*  Asal= Makassar, Sulawesi Selatan\n",
        "*  Status = Mahasiswa Sisfor Universitas Hasanuddin\n",
        "\n",
        "\n",
        "\n",
        "\n",
        "\n",
        "\n",
        "\n",
        "\n",
        "\n"
      ],
      "metadata": {
        "id": "d-O7EBWjn7hx"
      }
    },
    {
      "cell_type": "markdown",
      "source": [
        "#LIBRARY"
      ],
      "metadata": {
        "id": "nMTi7SqcoOlq"
      }
    },
    {
      "cell_type": "code",
      "source": [
        "import tensorflow as tf\n",
        "import zipfile,os\n",
        "from tensorflow.keras.preprocessing.image import ImageDataGenerator\n",
        "from tensorflow.keras.layers import Dense, Conv2D, Flatten, MaxPooling2D\n",
        "from tensorflow.keras.models import Sequential\n",
        "import matplotlib.pyplot as plt\n",
        "import numpy as np\n",
        "from google.colab import files\n",
        "import matplotlib.pyplot as plt\n",
        "import matplotlib.image as mpimg\n",
        "import pathlib"
      ],
      "metadata": {
        "id": "AD-EyZUNc18K"
      },
      "execution_count": null,
      "outputs": []
    },
    {
      "cell_type": "markdown",
      "source": [
        "#Import Dataset dengan API KAGGLE"
      ],
      "metadata": {
        "id": "JLeRPFf5qXEo"
      }
    },
    {
      "cell_type": "code",
      "execution_count": null,
      "metadata": {
        "id": "jYiLM6w2ayxP"
      },
      "outputs": [],
      "source": [
        "! chmod 600 /content/kaggle.json"
      ]
    },
    {
      "cell_type": "code",
      "source": [
        "! KAGGLE_CONFIG_DIR=/content/  kaggle datasets download -d sshikamaru/fruit-recognition"
      ],
      "metadata": {
        "colab": {
          "base_uri": "https://localhost:8080/"
        },
        "id": "hgHwWmgJbG01",
        "outputId": "258189bd-5253-4f01-d774-4e746e618b7f"
      },
      "execution_count": null,
      "outputs": [
        {
          "output_type": "stream",
          "name": "stdout",
          "text": [
            "Downloading fruit-recognition.zip to /content\n",
            " 99% 101M/102M [00:04<00:00, 21.4MB/s] \n",
            "100% 102M/102M [00:04<00:00, 21.6MB/s]\n"
          ]
        }
      ]
    },
    {
      "cell_type": "code",
      "source": [
        "zip_file = zipfile.ZipFile('/content/fruit-recognition.zip')\n",
        "zip_file.extractall('/tmp/')\n",
        "\n",
        "dir_path = '/tmp/data/train'\n",
        "\n",
        "os.listdir(dir_path)\n",
        "\n"
      ],
      "metadata": {
        "colab": {
          "base_uri": "https://localhost:8080/"
        },
        "id": "h3Nde-H9b7IC",
        "outputId": "d10d8969-b802-4074-f1f7-34355c7b73d0"
      },
      "execution_count": null,
      "outputs": [
        {
          "output_type": "execute_result",
          "data": {
            "text/plain": [
              "['Banana',\n",
              " 'Passion Fruit',\n",
              " 'Lemon',\n",
              " 'Grape Blue',\n",
              " 'Onion White',\n",
              " 'Plum',\n",
              " 'Apple Braeburn',\n",
              " 'Pepper Green',\n",
              " 'Limes',\n",
              " 'Avocado',\n",
              " 'Papaya',\n",
              " 'Cactus fruit',\n",
              " 'Orange',\n",
              " 'Potato Red',\n",
              " 'Blueberry',\n",
              " 'Cantaloupe',\n",
              " 'Strawberry',\n",
              " 'Apricot',\n",
              " 'Pepper Red',\n",
              " 'Cucumber Ripe',\n",
              " 'Mango',\n",
              " 'Watermelon',\n",
              " 'Kiwi',\n",
              " 'Clementine',\n",
              " 'Cherry',\n",
              " 'Apple Granny Smith',\n",
              " 'Pomegranate',\n",
              " 'Raspberry',\n",
              " 'Pear',\n",
              " 'Tomato',\n",
              " 'Corn',\n",
              " 'Pineapple',\n",
              " 'Peach']"
            ]
          },
          "metadata": {},
          "execution_count": 7
        }
      ]
    },
    {
      "cell_type": "markdown",
      "source": [
        "#Pre-processing data dengan image augmentation."
      ],
      "metadata": {
        "id": "iBxqeWRlqiLj"
      }
    },
    {
      "cell_type": "code",
      "source": [
        "train_datagen = ImageDataGenerator(\n",
        "                    rescale=1.0/255,\n",
        "                    rotation_range=30,\n",
        "                    width_shift_range=0.2,\n",
        "                    height_shift_range=0.2,\n",
        "                    shear_range=0.2,\n",
        "                    zoom_range=0.2,\n",
        "                    vertical_flip=True,\n",
        "                    fill_mode='nearest',   \n",
        "                    validation_split = 0.2)\n",
        "\n",
        "validation_datagen = ImageDataGenerator(\n",
        "    rescale=1.0/255\n",
        ")\n"
      ],
      "metadata": {
        "id": "jSioqQ1wdrtn"
      },
      "execution_count": null,
      "outputs": []
    },
    {
      "cell_type": "markdown",
      "source": [
        "#Mempersiapkan data latih yang akan dipelajari oleh model."
      ],
      "metadata": {
        "id": "dCVIH2S3qmLL"
      }
    },
    {
      "cell_type": "code",
      "source": [
        "train_generator = train_datagen.flow_from_directory(\n",
        "        dir_path,  # direktori data latih\n",
        "        class_mode='categorical',\n",
        "        target_size=(100, 100), \n",
        "        shuffle =True,\n",
        "        subset= 'training'\n",
        "        )\n",
        "\n",
        "validation_generator = train_datagen.flow_from_directory(\n",
        "        dir_path, # direktori data validasi\n",
        "        target_size=(100, 100), \n",
        "        class_mode='categorical',\n",
        "        subset= 'validation'\n",
        "        )  "
      ],
      "metadata": {
        "colab": {
          "base_uri": "https://localhost:8080/"
        },
        "id": "j4Jv7y5werz_",
        "outputId": "ab8ac86f-109d-439a-e67a-30b357ce8200"
      },
      "execution_count": null,
      "outputs": [
        {
          "output_type": "stream",
          "name": "stdout",
          "text": [
            "Found 13493 images belonging to 33 classes.\n",
            "Found 3361 images belonging to 33 classes.\n"
          ]
        }
      ]
    },
    {
      "cell_type": "markdown",
      "source": [
        "#Membangun arsitektur model dengan Convolutional Neural Network (CNN)."
      ],
      "metadata": {
        "id": "R6qhZjBQqzZM"
      }
    },
    {
      "cell_type": "code",
      "source": [
        "model = Sequential([\n",
        "    Conv2D(16, (3,3), activation='relu', input_shape=(100, 100, 3)),\n",
        "    MaxPooling2D(2, 2),\n",
        "    Conv2D(32, (3,3), activation='relu'),\n",
        "    MaxPooling2D(2,2),\n",
        "    Conv2D(64, (3,3), activation='relu'),\n",
        "    MaxPooling2D(2,2),\n",
        "    Conv2D(128, (3,3), activation='relu'),\n",
        "    MaxPooling2D(2,2),\n",
        "    Flatten(),\n",
        "    Dense(512, activation='relu'),\n",
        "    Dense(33, activation='softmax') \n",
        "])\n",
        "\n"
      ],
      "metadata": {
        "id": "Xiv1BbPreyh7"
      },
      "execution_count": null,
      "outputs": []
    },
    {
      "cell_type": "markdown",
      "source": [
        "#Compile dan latih model dengan model.compile dan model.fit hingga mendapatkan akurasi yang diinginkan."
      ],
      "metadata": {
        "id": "uXDdDwhwrCqj"
      }
    },
    {
      "cell_type": "code",
      "source": [
        "model.compile(loss='categorical_crossentropy', \n",
        "              optimizer='adam', \n",
        "              metrics=['accuracy'])"
      ],
      "metadata": {
        "id": "xZpxpPR9j6A8"
      },
      "execution_count": null,
      "outputs": []
    },
    {
      "cell_type": "markdown",
      "source": [
        "#Callback"
      ],
      "metadata": {
        "id": "xnuTXp-ArD88"
      }
    },
    {
      "cell_type": "code",
      "source": [
        "class myCallback(tf.keras.callbacks.Callback):\n",
        "  def on_epoch_end(self, epoch, logs={}):\n",
        "    if(logs.get('accuracy')>0.92):\n",
        "      print(\"\\nAkurasi telah mencapai >92%!\")\n",
        "      self.model.stop_training = True\n",
        "callbacks = myCallback()"
      ],
      "metadata": {
        "id": "xmdBpZnDfN8b"
      },
      "execution_count": null,
      "outputs": []
    },
    {
      "cell_type": "code",
      "source": [
        "hist = model.fit(\n",
        "      train_generator,\n",
        "      steps_per_epoch=32,  # berapa batch yang akan dieksekusi pada setiap epoch\n",
        "      epochs=20,\n",
        "      validation_data=validation_generator, # menampilkan akurasi pengujian data validasi\n",
        "      validation_steps=8,  # berapa batch yang akan dieksekusi pada setiap epoch\n",
        "      verbose=2,\n",
        "      batch_size=64,\n",
        "      callbacks=[callbacks])"
      ],
      "metadata": {
        "colab": {
          "base_uri": "https://localhost:8080/"
        },
        "id": "_6sVauIDfQXF",
        "outputId": "8d98c30a-9bf4-4c54-9f59-7aae37b2e7f4"
      },
      "execution_count": null,
      "outputs": [
        {
          "output_type": "stream",
          "name": "stdout",
          "text": [
            "Epoch 1/20\n",
            "32/32 - 15s - loss: 3.3598 - accuracy: 0.0811 - val_loss: 2.6104 - val_accuracy: 0.2891 - 15s/epoch - 480ms/step\n",
            "Epoch 2/20\n",
            "32/32 - 14s - loss: 2.1307 - accuracy: 0.2891 - val_loss: 1.8820 - val_accuracy: 0.4062 - 14s/epoch - 445ms/step\n",
            "Epoch 3/20\n",
            "32/32 - 15s - loss: 1.5389 - accuracy: 0.4590 - val_loss: 1.2555 - val_accuracy: 0.5000 - 15s/epoch - 455ms/step\n",
            "Epoch 4/20\n",
            "32/32 - 15s - loss: 1.1785 - accuracy: 0.5801 - val_loss: 0.9988 - val_accuracy: 0.6445 - 15s/epoch - 467ms/step\n",
            "Epoch 5/20\n",
            "32/32 - 15s - loss: 0.9321 - accuracy: 0.6514 - val_loss: 0.7367 - val_accuracy: 0.6992 - 15s/epoch - 456ms/step\n",
            "Epoch 6/20\n",
            "32/32 - 15s - loss: 0.8223 - accuracy: 0.7002 - val_loss: 0.7424 - val_accuracy: 0.7344 - 15s/epoch - 462ms/step\n",
            "Epoch 7/20\n",
            "32/32 - 14s - loss: 0.6801 - accuracy: 0.7500 - val_loss: 0.5985 - val_accuracy: 0.8008 - 14s/epoch - 453ms/step\n",
            "Epoch 8/20\n",
            "32/32 - 15s - loss: 0.6044 - accuracy: 0.7920 - val_loss: 0.5188 - val_accuracy: 0.8242 - 15s/epoch - 465ms/step\n",
            "Epoch 9/20\n",
            "32/32 - 14s - loss: 0.5445 - accuracy: 0.8135 - val_loss: 0.5755 - val_accuracy: 0.8164 - 14s/epoch - 450ms/step\n",
            "Epoch 10/20\n",
            "32/32 - 14s - loss: 0.5370 - accuracy: 0.7920 - val_loss: 0.9393 - val_accuracy: 0.6875 - 14s/epoch - 450ms/step\n",
            "Epoch 11/20\n",
            "32/32 - 14s - loss: 0.6693 - accuracy: 0.7734 - val_loss: 0.3709 - val_accuracy: 0.8789 - 14s/epoch - 447ms/step\n",
            "Epoch 12/20\n",
            "32/32 - 14s - loss: 0.3911 - accuracy: 0.8564 - val_loss: 0.3299 - val_accuracy: 0.8828 - 14s/epoch - 443ms/step\n",
            "Epoch 13/20\n",
            "32/32 - 15s - loss: 0.3634 - accuracy: 0.8691 - val_loss: 0.3680 - val_accuracy: 0.8320 - 15s/epoch - 456ms/step\n",
            "Epoch 14/20\n",
            "32/32 - 15s - loss: 0.3163 - accuracy: 0.8838 - val_loss: 0.3562 - val_accuracy: 0.8711 - 15s/epoch - 454ms/step\n",
            "Epoch 15/20\n",
            "32/32 - 14s - loss: 0.3319 - accuracy: 0.8730 - val_loss: 0.3096 - val_accuracy: 0.8984 - 14s/epoch - 447ms/step\n",
            "Epoch 16/20\n",
            "32/32 - 14s - loss: 0.2964 - accuracy: 0.8945 - val_loss: 0.1870 - val_accuracy: 0.9180 - 14s/epoch - 444ms/step\n",
            "Epoch 17/20\n",
            "32/32 - 14s - loss: 0.2459 - accuracy: 0.9180 - val_loss: 0.2682 - val_accuracy: 0.8945 - 14s/epoch - 442ms/step\n",
            "Epoch 18/20\n",
            "\n",
            "Akurasi telah mencapai >92%!\n",
            "32/32 - 14s - loss: 0.2053 - accuracy: 0.9287 - val_loss: 0.3066 - val_accuracy: 0.8867 - 14s/epoch - 442ms/step\n"
          ]
        }
      ]
    },
    {
      "cell_type": "markdown",
      "source": [
        "#Plot Akurasi dan Loss"
      ],
      "metadata": {
        "id": "cdDG7TMerShu"
      }
    },
    {
      "cell_type": "code",
      "source": [
        "# Menampilkan plot akurasi pelatihan\n",
        "plt.plot(hist.history['accuracy'])\n",
        "plt.plot(hist.history['val_accuracy'])\n",
        "plt.title('Model Accuracy')\n",
        "plt.ylabel('Accuracy')\n",
        "plt.xlabel('Epoch')\n",
        "plt.legend(['Train', 'Validation'], loc='upper left')\n",
        "plt.show()"
      ],
      "metadata": {
        "colab": {
          "base_uri": "https://localhost:8080/",
          "height": 295
        },
        "id": "3fvH5cNzmQ1L",
        "outputId": "f48dfca0-4e75-4f13-96a9-c95806284555"
      },
      "execution_count": null,
      "outputs": [
        {
          "output_type": "display_data",
          "data": {
            "text/plain": [
              "<Figure size 432x288 with 1 Axes>"
            ],
            "image/png": "[encoded data removed]"
          },
          "metadata": {
            "needs_background": "light"
          }
        }
      ]
    },
    {
      "cell_type": "code",
      "source": [
        "plt.plot(hist.history['loss'])\n",
        "plt.plot(hist.history['val_loss'])\n",
        "plt.title('Model Loss')\n",
        "plt.ylabel('Loss')\n",
        "plt.xlabel('Epoch')\n",
        "plt.legend(['Train', 'Validation'], loc='upper right')\n",
        "plt.show()"
      ],
      "metadata": {
        "colab": {
          "base_uri": "https://localhost:8080/",
          "height": 295
        },
        "id": "GayTwwb_mSet",
        "outputId": "87d7caa4-2bae-4dda-9cac-d7e728111fbd"
      },
      "execution_count": null,
      "outputs": [
        {
          "output_type": "display_data",
          "data": {
            "text/plain": [
              "<Figure size 432x288 with 1 Axes>"
            ],
            "image/png": "[encoded data removed]"
          },
          "metadata": {
            "needs_background": "light"
          }
        }
      ]
    },
    {
      "cell_type": "markdown",
      "source": [
        "#Menyimpan model ke dalam format TF-Lite."
      ],
      "metadata": {
        "id": "lOKR-yEBrW3C"
      }
    },
    {
      "cell_type": "code",
      "source": [
        "# Menyimpan model dalam format SavedModel\n",
        "export_dir = 'saved_model/'\n",
        "tf.saved_model.save(model, export_dir)\n",
        " \n",
        "# Convert SavedModel menjadi vegs.tflite\n",
        "converter = tf.lite.TFLiteConverter.from_saved_model(export_dir)\n",
        "tflite_model = converter.convert()\n",
        " \n",
        "tflite_model_file = pathlib.Path('vegs.tflite')\n",
        "tflite_model_file.write_bytes(tflite_model)"
      ],
      "metadata": {
        "colab": {
          "base_uri": "https://localhost:8080/"
        },
        "id": "fS3Y2iOAtkTn",
        "outputId": "4ce7f45c-9752-4937-9fca-3be5f2ad0f12"
      },
      "execution_count": null,
      "outputs": [
        {
          "output_type": "stream",
          "name": "stderr",
          "text": [
            "WARNING:absl:Found untraced functions such as _jit_compiled_convolution_op, _jit_compiled_convolution_op, _jit_compiled_convolution_op, _jit_compiled_convolution_op while saving (showing 4 of 4). These functions will not be directly callable after loading.\n"
          ]
        },
        {
          "output_type": "execute_result",
          "data": {
            "text/plain": [
              "4658644"
            ]
          },
          "metadata": {},
          "execution_count": 64
        }
      ]
    }
  ]
}